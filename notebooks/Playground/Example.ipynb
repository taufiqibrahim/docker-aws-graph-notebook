{
 "cells": [
  {
   "cell_type": "markdown",
   "id": "protecting-fellowship",
   "metadata": {},
   "source": [
    "## Check Neptune Connection Status\n",
    "\n",
    "```\n",
    "%status\n",
    "```"
   ]
  },
  {
   "cell_type": "code",
   "execution_count": 2,
   "id": "welsh-parade",
   "metadata": {},
   "outputs": [
    {
     "data": {
      "text/plain": [
       "{'status': 'healthy',\n",
       " 'startTime': 'Fri Mar 19 17:37:22 UTC 2021',\n",
       " 'dbEngineVersion': '1.0.4.1.R2.1',\n",
       " 'role': 'writer',\n",
       " 'gremlin': {'version': 'tinkerpop-3.4.8'},\n",
       " 'sparql': {'version': 'sparql-1.1'},\n",
       " 'labMode': {'NeptuneML': 'disabled',\n",
       "  'ObjectIndex': 'disabled',\n",
       "  'DFEQueryEngine': 'disabled',\n",
       "  'ReadWriteConflictDetection': 'enabled'}}"
      ]
     },
     "execution_count": 2,
     "metadata": {},
     "output_type": "execute_result"
    }
   ],
   "source": [
    "%status"
   ]
  },
  {
   "cell_type": "code",
   "execution_count": 3,
   "id": "reliable-found",
   "metadata": {},
   "outputs": [
    {
     "data": {
      "text/html": [
       "<style>.container { width:100% !important; }</style>"
      ],
      "text/plain": [
       "<IPython.core.display.HTML object>"
      ]
     },
     "metadata": {},
     "output_type": "display_data"
    }
   ],
   "source": [
    "from IPython.core.display import display, HTML\n",
    "display(HTML(\"<style>.container { width:100% !important; }</style>\"))"
   ]
  },
  {
   "cell_type": "code",
   "execution_count": 4,
   "id": "documented-indianapolis",
   "metadata": {
    "scrolled": true
   },
   "outputs": [
    {
     "data": {
      "application/vnd.jupyter.widget-view+json": {
       "model_id": "964bf79687144f40a22bab453a3b386d",
       "version_major": 2,
       "version_minor": 0
      },
      "text/plain": [
       "Tab(children=(Output(layout=Layout(max_height='600px', overflow='scroll', width='100%')),), _titles={'0': 'Con…"
      ]
     },
     "metadata": {},
     "output_type": "display_data"
    }
   ],
   "source": [
    "%%gremlin\n",
    "g.V().limit(100000).drop().iterate()"
   ]
  },
  {
   "cell_type": "markdown",
   "id": "falling-picking",
   "metadata": {},
   "source": [
    "## Insert Some Data\n",
    "\n",
    "Insert some nodes."
   ]
  },
  {
   "cell_type": "code",
   "execution_count": 5,
   "id": "continuing-prayer",
   "metadata": {},
   "outputs": [
    {
     "data": {
      "application/vnd.jupyter.widget-view+json": {
       "model_id": "6269d1353e794591a5a2e9a1d99f1662",
       "version_major": 2,
       "version_minor": 0
      },
      "text/plain": [
       "Tab(children=(Output(layout=Layout(max_height='600px', overflow='scroll', width='100%')),), _titles={'0': 'Con…"
      ]
     },
     "metadata": {},
     "output_type": "display_data"
    }
   ],
   "source": [
    "%%gremlin\n",
    "g.\n",
    "addV('Application').property('id','etl-sap-streams-shipment-dev').property('name','etl-sap-streams-shipment-dev').\n",
    "addV('LambdaFunction').property('id','etl-sap-streams-shipment-dev-p01DeliveryFlatten').property('name','etl-sap-streams-shipment-dev-p01DeliveryFlatten').property('type','LambdaFunction').\n",
    "addV('KafkaTopic').property('id','dev.etl.sap-streams-shipment.p01DeliveryFlatten').property('name','dev.etl.sap-streams-shipment.p01DeliveryFlatten').property('type','KafkaTopic').\n",
    "addV('KafkaTopic').property('id','dev.dms.dms-mssql-sap-endpoints-dev.piconsol.pi_deliveryorder').property('name','dev.dms.dms-mssql-sap-endpoints-dev.piconsol.pi_deliveryorder').property('type','KafkaTopic').\n",
    "addV('LambdaFunction').property('id','etl-sap-streams-shipment-dev-p11ShipmentFlatten').property('name','etl-sap-streams-shipment-dev-p11ShipmentFlatten').property('type','LambdaFunction').\n",
    "addV('KafkaTopic').property('id','dev.etl.sap-streams-shipment.p11ShipmentFlatten').property('name','dev.etl.sap-streams-shipment.p11ShipmentFlatten').property('type','KafkaTopic').\n",
    "addV('KafkaTopic').property('id','dev.dms.dms-mssql-sap-endpoints-dev.bosnet1.do').property('name','dev.dms.dms-mssql-sap-endpoints-dev.bosnet1.do').property('type','KafkaTopic')"
   ]
  },
  {
   "cell_type": "markdown",
   "id": "eastern-principal",
   "metadata": {},
   "source": [
    "Counting inserted data"
   ]
  },
  {
   "cell_type": "code",
   "execution_count": 8,
   "id": "individual-murder",
   "metadata": {},
   "outputs": [
    {
     "data": {
      "application/vnd.jupyter.widget-view+json": {
       "model_id": "3b349a87a6234b10bd2995472d4d85dd",
       "version_major": 2,
       "version_minor": 0
      },
      "text/plain": [
       "Tab(children=(Output(layout=Layout(max_height='600px', overflow='scroll', width='100%')),), _titles={'0': 'Con…"
      ]
     },
     "metadata": {},
     "output_type": "display_data"
    }
   ],
   "source": [
    "%%gremlin\n",
    "g.V().groupCount().by(label).unfold()"
   ]
  },
  {
   "cell_type": "code",
   "execution_count": null,
   "id": "optical-delicious",
   "metadata": {},
   "outputs": [],
   "source": [
    "%%gremlin\n",
    "g.E().groupCount().by(label).unfold()"
   ]
  }
 ],
 "metadata": {
  "kernelspec": {
   "display_name": "Python 3",
   "language": "python",
   "name": "python3"
  },
  "language_info": {
   "codemirror_mode": {
    "name": "ipython",
    "version": 3
   },
   "file_extension": ".py",
   "mimetype": "text/x-python",
   "name": "python",
   "nbconvert_exporter": "python",
   "pygments_lexer": "ipython3",
   "version": "3.6.12"
  }
 },
 "nbformat": 4,
 "nbformat_minor": 5
}
